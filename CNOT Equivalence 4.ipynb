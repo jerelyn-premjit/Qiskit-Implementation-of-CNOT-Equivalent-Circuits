{
 "cells": [
  {
   "cell_type": "markdown",
   "metadata": {},
   "source": [
    "<span style=\"font-family:Times New Row; font-size:12pt;\">Here below is the Qiskit implementation of CNOT Equivalence Using A<sub>PN</sub>, for the four general 2 qubit states. The below implementation contains their quantum cirtuits, state vectors, concurrence and probability distributions.</span>"
   ]
  },
  {
   "cell_type": "code",
   "execution_count": 1,
   "metadata": {},
   "outputs": [],
   "source": [
    "import math\n",
    "from qiskit.quantum_info import *\n",
    "from qiskit import *\n",
    "import numpy as np\n",
    "import qiskit.quantum_info as qi\n",
    "import numpy as np\n",
    "from qiskit.tools.visualization import plot_histogram\n",
    "import qiskit.providers.aer as aerp"
   ]
  },
  {
   "cell_type": "code",
   "execution_count": 2,
   "metadata": {},
   "outputs": [
    {
     "data": {
      "text/latex": [
       "$$\n",
       "CNOTeq4 = \n",
       "\\begin{bmatrix}\n",
       "0 & -\\tfrac{1}{\\sqrt{2}}i & \\tfrac{1}{\\sqrt{2}} & 0  \\\\\n",
       " -\\tfrac{1}{\\sqrt{2}}i & 0 & 0 & -\\tfrac{1}{\\sqrt{2}}  \\\\\n",
       " \\tfrac{1}{\\sqrt{2}} & 0 & 0 & \\tfrac{1}{\\sqrt{2}}i  \\\\\n",
       " 0 & -\\tfrac{1}{\\sqrt{2}} & \\tfrac{1}{\\sqrt{2}}i & 0  \\\\\n",
       " \\end{bmatrix}\n",
       "$$"
      ],
      "text/plain": [
       "<IPython.core.display.Latex object>"
      ]
     },
     "execution_count": 2,
     "metadata": {},
     "output_type": "execute_result"
    }
   ],
   "source": [
    "eq4 = np.array([\n",
    "    [0,-(1.j/math.sqrt(2)),(1/math.sqrt(2)),0],\n",
    "    [-(1.j/math.sqrt(2)),0,0,-(1/math.sqrt(2))],\n",
    "    [(1/math.sqrt(2)),0,0,(1.j/math.sqrt(2))],\n",
    "    [0,-(1/math.sqrt(2)),(1.j/math.sqrt(2)),0]])\n",
    "cnoteq4 = qi.DensityMatrix(eq4)\n",
    "cnoteq4.draw('latex',prefix='CNOTeq4 = ')"
   ]
  },
  {
   "cell_type": "markdown",
   "metadata": {},
   "source": [
    "## for |00>"
   ]
  },
  {
   "cell_type": "code",
   "execution_count": 3,
   "metadata": {},
   "outputs": [
    {
     "data": {
      "text/plain": [
       "<qiskit.circuit.instructionset.InstructionSet at 0x7ff31acf77c0>"
      ]
     },
     "execution_count": 3,
     "metadata": {},
     "output_type": "execute_result"
    }
   ],
   "source": [
    "cnoteq4 = qi.operators.Operator([\n",
    "    [0,-(1.j/math.sqrt(2)),(1/math.sqrt(2)),0],\n",
    "    [-(1.j/math.sqrt(2)),0,0,-(1/math.sqrt(2))],\n",
    "    [(1/math.sqrt(2)),0,0,(1.j/math.sqrt(2))],\n",
    "    [0,-(1/math.sqrt(2)),(1.j/math.sqrt(2)),0]])\n",
    "circ1 = QuantumCircuit(2, 2)\n",
    "circ1.append(cnoteq4, [1, 0])"
   ]
  },
  {
   "cell_type": "markdown",
   "metadata": {},
   "source": [
    "### State Vector for |00> "
   ]
  },
  {
   "cell_type": "code",
   "execution_count": 4,
   "metadata": {},
   "outputs": [
    {
     "data": {
      "text/latex": [
       "$$\\frac{\\sqrt{2}}{2} |01\\rangle- \\frac{\\sqrt{2} i}{2} |10\\rangle$$"
      ],
      "text/plain": [
       "<IPython.core.display.Latex object>"
      ]
     },
     "execution_count": 4,
     "metadata": {},
     "output_type": "execute_result"
    }
   ],
   "source": [
    "sv = Statevector.from_label('00')\n",
    "sv1 = sv.evolve(circ1)\n",
    "sv1.draw('latex')"
   ]
  },
  {
   "cell_type": "markdown",
   "metadata": {},
   "source": [
    "### Concurrence for |00> "
   ]
  },
  {
   "cell_type": "code",
   "execution_count": 5,
   "metadata": {},
   "outputs": [
    {
     "data": {
      "text/plain": [
       "1.0000000000000002"
      ]
     },
     "execution_count": 5,
     "metadata": {},
     "output_type": "execute_result"
    }
   ],
   "source": [
    "qi.concurrence(sv1)"
   ]
  },
  {
   "cell_type": "markdown",
   "metadata": {},
   "source": [
    "### Probabilities of |00> "
   ]
  },
  {
   "cell_type": "code",
   "execution_count": 6,
   "metadata": {},
   "outputs": [
    {
     "data": {
      "image/png": "[encoded data removed]",
      "text/plain": [
       "<Figure size 327.252x204.68 with 1 Axes>"
      ]
     },
     "execution_count": 6,
     "metadata": {},
     "output_type": "execute_result"
    }
   ],
   "source": [
    "circ1.measure([0,1], [0,1])\n",
    "circ1.draw(output='mpl')"
   ]
  },
  {
   "cell_type": "code",
   "execution_count": 7,
   "metadata": {},
   "outputs": [
    {
     "data": {
      "image/png": "[encoded data removed]",
      "text/plain": [
       "<Figure size 504x360 with 1 Axes>"
      ]
     },
     "execution_count": 7,
     "metadata": {},
     "output_type": "execute_result"
    }
   ],
   "source": [
    "simulator = Aer.get_backend('qasm_simulator')\n",
    "circ = transpile(circ1, simulator)\n",
    "\n",
    "result = simulator.run(circ, shots=1024).result()\n",
    "counts = result.get_counts(circ)\n",
    "second_result = execute(circ, simulator, shots=2048).result()\n",
    "second_counts  = second_result.get_counts(circ)\n",
    "third_result = execute(circ, simulator, shots=4096).result()\n",
    "third_counts  = third_result.get_counts(circ)\n",
    "# Plot results with legend\n",
    "legend = ['1024 shots', '2048 shots', '4096 shots']\n",
    "plot_histogram([counts, second_counts, third_counts], legend=legend, title='CNOTeq4 for |00>')"
   ]
  },
  {
   "cell_type": "markdown",
   "metadata": {},
   "source": [
    "<span style=\"font-family:Times New Row; font-size:12pt;\">The above graph shows the generation of an entangled state, involving the states |01> and |10> with nearly equal probabilities, as indicated by it's respective state vector.</span>"
   ]
  },
  {
   "cell_type": "markdown",
   "metadata": {},
   "source": [
    "## for |01>"
   ]
  },
  {
   "cell_type": "code",
   "execution_count": 8,
   "metadata": {},
   "outputs": [
    {
     "data": {
      "text/plain": [
       "<qiskit.circuit.instructionset.InstructionSet at 0x7ff308af8480>"
      ]
     },
     "execution_count": 8,
     "metadata": {},
     "output_type": "execute_result"
    }
   ],
   "source": [
    "cnoteq4 = qi.operators.Operator([\n",
    "    [0,-(1.j/math.sqrt(2)),(1/math.sqrt(2)),0],\n",
    "    [-(1.j/math.sqrt(2)),0,0,-(1/math.sqrt(2))],\n",
    "    [(1/math.sqrt(2)),0,0,(1.j/math.sqrt(2))],\n",
    "    [0,-(1/math.sqrt(2)),(1.j/math.sqrt(2)),0]])\n",
    "\n",
    "circ2 = QuantumCircuit(2, 2)\n",
    "circ2.x([1])\n",
    "circ2.append(cnoteq4, [1, 0])"
   ]
  },
  {
   "cell_type": "markdown",
   "metadata": {},
   "source": [
    "### State Vector for |01> "
   ]
  },
  {
   "cell_type": "code",
   "execution_count": 9,
   "metadata": {},
   "outputs": [
    {
     "data": {
      "text/latex": [
       "$$\\frac{\\sqrt{2} i}{2} |01\\rangle- \\frac{\\sqrt{2}}{2} |10\\rangle$$"
      ],
      "text/plain": [
       "<IPython.core.display.Latex object>"
      ]
     },
     "execution_count": 9,
     "metadata": {},
     "output_type": "execute_result"
    }
   ],
   "source": [
    "sv = Statevector.from_label('01')\n",
    "sv2 = sv.evolve(circ2)\n",
    "sv2.draw('latex')"
   ]
  },
  {
   "cell_type": "markdown",
   "metadata": {},
   "source": [
    "### Concurrence for |01> "
   ]
  },
  {
   "cell_type": "code",
   "execution_count": 10,
   "metadata": {},
   "outputs": [
    {
     "data": {
      "text/plain": [
       "1.0000000000000002"
      ]
     },
     "execution_count": 10,
     "metadata": {},
     "output_type": "execute_result"
    }
   ],
   "source": [
    "qi.concurrence(sv2)"
   ]
  },
  {
   "cell_type": "markdown",
   "metadata": {},
   "source": [
    "### Probabilities of |01> "
   ]
  },
  {
   "cell_type": "code",
   "execution_count": 11,
   "metadata": {},
   "outputs": [
    {
     "data": {
      "image/png": "[encoded data removed]",
      "text/plain": [
       "<Figure size 387.452x204.68 with 1 Axes>"
      ]
     },
     "execution_count": 11,
     "metadata": {},
     "output_type": "execute_result"
    }
   ],
   "source": [
    "circ2.measure([0,1], [0,1])\n",
    "circ2.draw(output='mpl')"
   ]
  },
  {
   "cell_type": "code",
   "execution_count": 12,
   "metadata": {},
   "outputs": [
    {
     "data": {
      "image/png": "[encoded data removed]",
      "text/plain": [
       "<Figure size 504x360 with 1 Axes>"
      ]
     },
     "execution_count": 12,
     "metadata": {},
     "output_type": "execute_result"
    }
   ],
   "source": [
    "simulator = Aer.get_backend('qasm_simulator')\n",
    "circ = transpile(circ2, simulator)\n",
    "\n",
    "result = simulator.run(circ, shots=1024).result()\n",
    "counts = result.get_counts(circ)\n",
    "second_result = execute(circ, simulator, shots=2048).result()\n",
    "second_counts  = second_result.get_counts(circ)\n",
    "third_result = execute(circ, simulator, shots=4096).result()\n",
    "third_counts  = third_result.get_counts(circ)\n",
    "# Plot results with legend\n",
    "legend = ['1024 shots', '2048 shots', '4096 shots']\n",
    "plot_histogram([counts, second_counts, third_counts], legend=legend, title='CNOTeq4 for |01>')"
   ]
  },
  {
   "cell_type": "markdown",
   "metadata": {},
   "source": [
    "<span style=\"font-family:Times New Row; font-size:12pt;\">The above graph shows the generation of an entangled state, involving the states |00> and |11> with nearly equal probabilities, as indicated by it's respective state vector.</span>"
   ]
  },
  {
   "cell_type": "markdown",
   "metadata": {},
   "source": [
    "## for |10>"
   ]
  },
  {
   "cell_type": "code",
   "execution_count": 13,
   "metadata": {},
   "outputs": [
    {
     "data": {
      "text/plain": [
       "<qiskit.circuit.instructionset.InstructionSet at 0x7ff31c93b900>"
      ]
     },
     "execution_count": 13,
     "metadata": {},
     "output_type": "execute_result"
    }
   ],
   "source": [
    "cnoteq4 = qi.operators.Operator([\n",
    "    [0,-(1.j/math.sqrt(2)),(1/math.sqrt(2)),0],\n",
    "    [-(1.j/math.sqrt(2)),0,0,-(1/math.sqrt(2))],\n",
    "    [(1/math.sqrt(2)),0,0,(1.j/math.sqrt(2))],\n",
    "    [0,-(1/math.sqrt(2)),(1.j/math.sqrt(2)),0]])\n",
    "circ3 = QuantumCircuit(2, 2)\n",
    "circ3.x([0])\n",
    "circ3.append(cnoteq4, [1, 0])"
   ]
  },
  {
   "cell_type": "markdown",
   "metadata": {},
   "source": [
    "### State Vector for |10> "
   ]
  },
  {
   "cell_type": "code",
   "execution_count": 14,
   "metadata": {},
   "outputs": [
    {
     "data": {
      "text/latex": [
       "$$\\frac{\\sqrt{2} i}{2} |01\\rangle- \\frac{\\sqrt{2}}{2} |10\\rangle$$"
      ],
      "text/plain": [
       "<IPython.core.display.Latex object>"
      ]
     },
     "execution_count": 14,
     "metadata": {},
     "output_type": "execute_result"
    }
   ],
   "source": [
    "sv = Statevector.from_label('10')\n",
    "sv3 = sv.evolve(circ3)\n",
    "sv3.draw('latex')"
   ]
  },
  {
   "cell_type": "markdown",
   "metadata": {},
   "source": [
    "### Concurrence for |10> "
   ]
  },
  {
   "cell_type": "code",
   "execution_count": 15,
   "metadata": {},
   "outputs": [
    {
     "data": {
      "text/plain": [
       "1.0000000000000002"
      ]
     },
     "execution_count": 15,
     "metadata": {},
     "output_type": "execute_result"
    }
   ],
   "source": [
    "qi.concurrence(sv3)"
   ]
  },
  {
   "cell_type": "markdown",
   "metadata": {},
   "source": [
    "### Probabilities of |10> "
   ]
  },
  {
   "cell_type": "code",
   "execution_count": 16,
   "metadata": {},
   "outputs": [
    {
     "data": {
      "image/png": "[encoded data removed]",
      "text/plain": [
       "<Figure size 387.452x204.68 with 1 Axes>"
      ]
     },
     "execution_count": 16,
     "metadata": {},
     "output_type": "execute_result"
    }
   ],
   "source": [
    "circ3.measure([0,1], [0,1])\n",
    "circ3.draw(output='mpl')"
   ]
  },
  {
   "cell_type": "code",
   "execution_count": 17,
   "metadata": {},
   "outputs": [
    {
     "data": {
      "image/png": "[encoded data removed]",
      "text/plain": [
       "<Figure size 504x360 with 1 Axes>"
      ]
     },
     "execution_count": 17,
     "metadata": {},
     "output_type": "execute_result"
    }
   ],
   "source": [
    "simulator = Aer.get_backend('qasm_simulator')\n",
    "circ = transpile(circ3, simulator)\n",
    "\n",
    "result = simulator.run(circ, shots=1024).result()\n",
    "counts = result.get_counts(circ)\n",
    "second_result = execute(circ, simulator, shots=2048).result()\n",
    "second_counts  = second_result.get_counts(circ)\n",
    "third_result = execute(circ, simulator, shots=4096).result()\n",
    "third_counts  = third_result.get_counts(circ)\n",
    "# Plot results with legend\n",
    "legend = ['1024 shots', '2048 shots', '4096 shots']\n",
    "plot_histogram([counts, second_counts, third_counts], legend=legend, title='CNOTeq4 for |10>')"
   ]
  },
  {
   "cell_type": "markdown",
   "metadata": {},
   "source": [
    "<span style=\"font-family:Times New Row; font-size:12pt;\">The above graph shows the generation of an entangled state, involving the states |00> and |11> with nearly equal probabilities, as indicated by it's respective state vector.</span>"
   ]
  },
  {
   "cell_type": "markdown",
   "metadata": {},
   "source": [
    "## for |11>"
   ]
  },
  {
   "cell_type": "code",
   "execution_count": 18,
   "metadata": {},
   "outputs": [
    {
     "data": {
      "text/plain": [
       "<qiskit.circuit.instructionset.InstructionSet at 0x7ff2e8627e00>"
      ]
     },
     "execution_count": 18,
     "metadata": {},
     "output_type": "execute_result"
    }
   ],
   "source": [
    "cnoteq4 = qi.operators.Operator([\n",
    "    [0,-(1.j/math.sqrt(2)),(1/math.sqrt(2)),0],\n",
    "    [-(1.j/math.sqrt(2)),0,0,-(1/math.sqrt(2))],\n",
    "    [(1/math.sqrt(2)),0,0,(1.j/math.sqrt(2))],\n",
    "    [0,-(1/math.sqrt(2)),(1.j/math.sqrt(2)),0]])\n",
    "circ4 = QuantumCircuit(2, 2)\n",
    "circ4.x([0])\n",
    "circ4.x([1])\n",
    "circ4.append(cnoteq4, [1, 0])"
   ]
  },
  {
   "cell_type": "markdown",
   "metadata": {},
   "source": [
    "### State Vector for |11> "
   ]
  },
  {
   "cell_type": "code",
   "execution_count": 19,
   "metadata": {},
   "outputs": [
    {
     "data": {
      "text/latex": [
       "$$\\frac{\\sqrt{2}}{2} |01\\rangle- \\frac{\\sqrt{2} i}{2} |10\\rangle$$"
      ],
      "text/plain": [
       "<IPython.core.display.Latex object>"
      ]
     },
     "execution_count": 19,
     "metadata": {},
     "output_type": "execute_result"
    }
   ],
   "source": [
    "sv = Statevector.from_label('11')\n",
    "sv4 = sv.evolve(circ4)\n",
    "sv4.draw('latex')"
   ]
  },
  {
   "cell_type": "markdown",
   "metadata": {},
   "source": [
    "### Concurrence for |11> "
   ]
  },
  {
   "cell_type": "code",
   "execution_count": 20,
   "metadata": {},
   "outputs": [
    {
     "data": {
      "text/plain": [
       "1.0000000000000002"
      ]
     },
     "execution_count": 20,
     "metadata": {},
     "output_type": "execute_result"
    }
   ],
   "source": [
    "qi.concurrence(sv4)"
   ]
  },
  {
   "cell_type": "markdown",
   "metadata": {},
   "source": [
    "### Probabilities of |11> "
   ]
  },
  {
   "cell_type": "code",
   "execution_count": 21,
   "metadata": {},
   "outputs": [
    {
     "data": {
      "image/png": "[encoded data removed]",
      "text/plain": [
       "<Figure size 387.452x204.68 with 1 Axes>"
      ]
     },
     "execution_count": 21,
     "metadata": {},
     "output_type": "execute_result"
    }
   ],
   "source": [
    "circ4.measure([0,1], [0,1])\n",
    "circ4.draw(output='mpl')"
   ]
  },
  {
   "cell_type": "code",
   "execution_count": 22,
   "metadata": {},
   "outputs": [
    {
     "data": {
      "image/png": "[encoded data removed]",
      "text/plain": [
       "<Figure size 504x360 with 1 Axes>"
      ]
     },
     "execution_count": 22,
     "metadata": {},
     "output_type": "execute_result"
    }
   ],
   "source": [
    "simulator = Aer.get_backend('qasm_simulator')\n",
    "circ = transpile(circ4, simulator)\n",
    "\n",
    "result = simulator.run(circ, shots=1024).result()\n",
    "counts = result.get_counts(circ)\n",
    "second_result = execute(circ, simulator, shots=2048).result()\n",
    "second_counts  = second_result.get_counts(circ)\n",
    "third_result = execute(circ, simulator, shots=4096).result()\n",
    "third_counts  = third_result.get_counts(circ)\n",
    "# Plot results with legend\n",
    "legend = ['1024 shots', '2048 shots', '4096 shots']\n",
    "plot_histogram([counts, second_counts, third_counts], legend=legend, title='CNOTeq4 for |11>')"
   ]
  },
  {
   "cell_type": "markdown",
   "metadata": {},
   "source": [
    "<span style=\"font-family:Times New Row; font-size:12pt;\">The above graph shows the generation of an entangled state, involving the states |01> and |10> with nearly equal probabilities, as indicated by it's respective state vector.</span>"
   ]
  }
 ],
 "metadata": {
  "kernelspec": {
   "display_name": "Python 3",
   "language": "python",
   "name": "python3"
  },
  "language_info": {
   "codemirror_mode": {
    "name": "ipython",
    "version": 3
   },
   "file_extension": ".py",
   "mimetype": "text/x-python",
   "name": "python",
   "nbconvert_exporter": "python",
   "pygments_lexer": "ipython3",
   "version": "3.8.5"
  }
 },
 "nbformat": 4,
 "nbformat_minor": 4
}
