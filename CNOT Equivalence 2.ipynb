{
 "cells": [
  {
   "cell_type": "markdown",
   "metadata": {},
   "source": [
    "<span style=\"font-family:Times New Row; font-size:12pt;\">Here below is the Qiskit implementation of CNOT Equivalence Using A<sub>QP</sub>, for the four general 2 qubit states. The below implementation contains their quantum cirtuits, state vectors, concurrence and probability distributions.</span>"
   ]
  },
  {
   "cell_type": "code",
   "execution_count": 26,
   "metadata": {},
   "outputs": [],
   "source": [
    "import math\n",
    "from qiskit.quantum_info import *\n",
    "from qiskit import *\n",
    "import numpy as np\n",
    "import qiskit.quantum_info as qi\n",
    "import numpy as np\n",
    "from qiskit.tools.visualization import plot_histogram\n",
    "import qiskit.providers.aer as aerp"
   ]
  },
  {
   "cell_type": "code",
   "execution_count": 27,
   "metadata": {},
   "outputs": [
    {
     "data": {
      "text/latex": [
       "$$\n",
       "CNOTeq2 = \n",
       "\\begin{bmatrix}\n",
       "0 & \\tfrac{1}{\\sqrt{2}} & -\\tfrac{1}{\\sqrt{2}}i & 0  \\\\\n",
       " \\tfrac{1}{\\sqrt{2}} & 0 & 0 & -\\tfrac{1}{\\sqrt{2}}i  \\\\\n",
       " -\\tfrac{1}{\\sqrt{2}}i & 0 & 0 & \\tfrac{1}{\\sqrt{2}}  \\\\\n",
       " 0 & -\\tfrac{1}{\\sqrt{2}}i & \\tfrac{1}{\\sqrt{2}} & 0  \\\\\n",
       " \\end{bmatrix}\n",
       "$$"
      ],
      "text/plain": [
       "<IPython.core.display.Latex object>"
      ]
     },
     "execution_count": 27,
     "metadata": {},
     "output_type": "execute_result"
    }
   ],
   "source": [
    "eq2 = np.array([\n",
    "    [0,(1/math.sqrt(2)),-(1.j/math.sqrt(2)),0],\n",
    "    [(1/math.sqrt(2)),0,0,-(1.j/math.sqrt(2))],\n",
    "    [-(1.j/math.sqrt(2)),0,0,(1/math.sqrt(2))],\n",
    "    [0,-(1.j/math.sqrt(2)),(1/math.sqrt(2)),0]])\n",
    "cnoteq2 = qi.DensityMatrix(eq2)\n",
    "cnoteq2.draw('latex',prefix='CNOTeq2 = ')"
   ]
  },
  {
   "cell_type": "markdown",
   "metadata": {},
   "source": [
    "## for |00>"
   ]
  },
  {
   "cell_type": "code",
   "execution_count": 28,
   "metadata": {},
   "outputs": [
    {
     "data": {
      "text/plain": [
       "<qiskit.circuit.instructionset.InstructionSet at 0x7ff75d0731c0>"
      ]
     },
     "execution_count": 28,
     "metadata": {},
     "output_type": "execute_result"
    }
   ],
   "source": [
    "cnoteq2 = qi.operators.Operator([\n",
    "    [0,(1/math.sqrt(2)),-(1.j/math.sqrt(2)),0],\n",
    "    [(1/math.sqrt(2)),0,0,-(1.j/math.sqrt(2))],\n",
    "    [-(1.j/math.sqrt(2)),0,0,(1/math.sqrt(2))],\n",
    "    [0,-(1.j/math.sqrt(2)),(1/math.sqrt(2)),0]])\n",
    "circ1 = QuantumCircuit(2, 2)\n",
    "circ1.append(cnoteq2, [1, 0])"
   ]
  },
  {
   "cell_type": "markdown",
   "metadata": {},
   "source": [
    "### State Vector for |00> "
   ]
  },
  {
   "cell_type": "code",
   "execution_count": 29,
   "metadata": {},
   "outputs": [
    {
     "data": {
      "text/latex": [
       "$$- \\frac{\\sqrt{2} i}{2} |01\\rangle+\\frac{\\sqrt{2}}{2} |10\\rangle$$"
      ],
      "text/plain": [
       "<IPython.core.display.Latex object>"
      ]
     },
     "execution_count": 29,
     "metadata": {},
     "output_type": "execute_result"
    }
   ],
   "source": [
    "sv = Statevector.from_label('00')\n",
    "sv1 = sv.evolve(circ1)\n",
    "sv1.draw('latex')"
   ]
  },
  {
   "cell_type": "markdown",
   "metadata": {},
   "source": [
    "### Concurrence for |00> "
   ]
  },
  {
   "cell_type": "code",
   "execution_count": 30,
   "metadata": {},
   "outputs": [
    {
     "data": {
      "text/plain": [
       "1.0000000000000002"
      ]
     },
     "execution_count": 30,
     "metadata": {},
     "output_type": "execute_result"
    }
   ],
   "source": [
    "qi.concurrence(sv1)"
   ]
  },
  {
   "cell_type": "markdown",
   "metadata": {},
   "source": [
    "### Probabilities of |00> "
   ]
  },
  {
   "cell_type": "code",
   "execution_count": 31,
   "metadata": {},
   "outputs": [
    {
     "data": {
      "image/png": "[encoded data removed]",
      "text/plain": [
       "<Figure size 327.252x204.68 with 1 Axes>"
      ]
     },
     "execution_count": 31,
     "metadata": {},
     "output_type": "execute_result"
    }
   ],
   "source": [
    "circ1.measure([0,1], [0,1])\n",
    "circ1.draw(output='mpl')"
   ]
  },
  {
   "cell_type": "code",
   "execution_count": 32,
   "metadata": {},
   "outputs": [
    {
     "data": {
      "image/png": "[encoded data removed]",
      "text/plain": [
       "<Figure size 504x360 with 1 Axes>"
      ]
     },
     "execution_count": 32,
     "metadata": {},
     "output_type": "execute_result"
    }
   ],
   "source": [
    "simulator = Aer.get_backend('qasm_simulator')\n",
    "circ = transpile(circ1, simulator)\n",
    "\n",
    "result = simulator.run(circ, shots=1024).result()\n",
    "counts = result.get_counts(circ)\n",
    "second_result = execute(circ, simulator, shots=2048).result()\n",
    "second_counts  = second_result.get_counts(circ)\n",
    "third_result = execute(circ, simulator, shots=4096).result()\n",
    "third_counts  = third_result.get_counts(circ)\n",
    "# Plot results with legend\n",
    "legend = ['1024 shots', '2048 shots', '4096 shots']\n",
    "plot_histogram([counts, second_counts, third_counts], legend=legend, title='CNOTeq2 for |00>')"
   ]
  },
  {
   "cell_type": "markdown",
   "metadata": {},
   "source": [
    "<span style=\"font-family:Times New Row; font-size:12pt;\">The above graph shows the generation of an entangled state, involving the states |01> and |10> with nearly equal probabilities, as indicated by it's respective state vector.</span>"
   ]
  },
  {
   "cell_type": "markdown",
   "metadata": {},
   "source": [
    "## for |01>"
   ]
  },
  {
   "cell_type": "code",
   "execution_count": 33,
   "metadata": {},
   "outputs": [
    {
     "data": {
      "text/plain": [
       "<qiskit.circuit.instructionset.InstructionSet at 0x7ff75d0bad00>"
      ]
     },
     "execution_count": 33,
     "metadata": {},
     "output_type": "execute_result"
    }
   ],
   "source": [
    "cnoteq2 = qi.operators.Operator([\n",
    "    [0,(1/math.sqrt(2)),-(1.j/math.sqrt(2)),0],\n",
    "    [(1/math.sqrt(2)),0,0,-(1.j/math.sqrt(2))],\n",
    "    [-(1.j/math.sqrt(2)),0,0,(1/math.sqrt(2))],\n",
    "    [0,-(1.j/math.sqrt(2)),(1/math.sqrt(2)),0]])\n",
    "\n",
    "circ2 = QuantumCircuit(2, 2)\n",
    "circ2.x([1])\n",
    "circ2.append(cnoteq2, [1, 0])"
   ]
  },
  {
   "cell_type": "markdown",
   "metadata": {},
   "source": [
    "### State Vector for |01> "
   ]
  },
  {
   "cell_type": "code",
   "execution_count": 34,
   "metadata": {},
   "outputs": [
    {
     "data": {
      "text/latex": [
       "$$\\frac{\\sqrt{2}}{2} |01\\rangle- \\frac{\\sqrt{2} i}{2} |10\\rangle$$"
      ],
      "text/plain": [
       "<IPython.core.display.Latex object>"
      ]
     },
     "execution_count": 34,
     "metadata": {},
     "output_type": "execute_result"
    }
   ],
   "source": [
    "sv = Statevector.from_label('01')\n",
    "sv2 = sv.evolve(circ2)\n",
    "sv2.draw('latex')"
   ]
  },
  {
   "cell_type": "markdown",
   "metadata": {},
   "source": [
    "### Concurrence for |01> "
   ]
  },
  {
   "cell_type": "code",
   "execution_count": 35,
   "metadata": {},
   "outputs": [
    {
     "data": {
      "text/plain": [
       "1.0000000000000002"
      ]
     },
     "execution_count": 35,
     "metadata": {},
     "output_type": "execute_result"
    }
   ],
   "source": [
    "qi.concurrence(sv2)"
   ]
  },
  {
   "cell_type": "markdown",
   "metadata": {},
   "source": [
    "### Probabilities of |01> "
   ]
  },
  {
   "cell_type": "code",
   "execution_count": 36,
   "metadata": {},
   "outputs": [
    {
     "data": {
      "image/png": "[encoded data removed]",
      "text/plain": [
       "<Figure size 387.452x204.68 with 1 Axes>"
      ]
     },
     "execution_count": 36,
     "metadata": {},
     "output_type": "execute_result"
    }
   ],
   "source": [
    "circ2.measure([0,1], [0,1])\n",
    "circ2.draw(output='mpl')"
   ]
  },
  {
   "cell_type": "code",
   "execution_count": 37,
   "metadata": {},
   "outputs": [
    {
     "data": {
      "image/png": "[encoded data removed]",
      "text/plain": [
       "<Figure size 504x360 with 1 Axes>"
      ]
     },
     "execution_count": 37,
     "metadata": {},
     "output_type": "execute_result"
    }
   ],
   "source": [
    "simulator = Aer.get_backend('qasm_simulator')\n",
    "circ = transpile(circ2, simulator)\n",
    "\n",
    "result = simulator.run(circ, shots=1024).result()\n",
    "counts = result.get_counts(circ)\n",
    "second_result = execute(circ, simulator, shots=2048).result()\n",
    "second_counts  = second_result.get_counts(circ)\n",
    "third_result = execute(circ, simulator, shots=4096).result()\n",
    "third_counts  = third_result.get_counts(circ)\n",
    "# Plot results with legend\n",
    "legend = ['1024 shots', '2048 shots', '4096 shots']\n",
    "plot_histogram([counts, second_counts, third_counts], legend=legend, title='CNOTeq2 for |01>')"
   ]
  },
  {
   "cell_type": "markdown",
   "metadata": {},
   "source": [
    "<span style=\"font-family:Times New Row; font-size:12pt;\">The above graph shows the generation of an entangled state, involving the states |00> and |11> with nearly equal probabilities, as indicated by it's respective state vector.</span>"
   ]
  },
  {
   "cell_type": "markdown",
   "metadata": {},
   "source": [
    "## for |10>"
   ]
  },
  {
   "cell_type": "code",
   "execution_count": 38,
   "metadata": {},
   "outputs": [
    {
     "data": {
      "text/plain": [
       "<qiskit.circuit.instructionset.InstructionSet at 0x7ff75cc3ed80>"
      ]
     },
     "execution_count": 38,
     "metadata": {},
     "output_type": "execute_result"
    }
   ],
   "source": [
    "cnoteq2 = qi.operators.Operator([\n",
    "    [0,(1/math.sqrt(2)),-(1.j/math.sqrt(2)),0],\n",
    "    [(1/math.sqrt(2)),0,0,-(1.j/math.sqrt(2))],\n",
    "    [-(1.j/math.sqrt(2)),0,0,(1/math.sqrt(2))],\n",
    "    [0,-(1.j/math.sqrt(2)),(1/math.sqrt(2)),0]])\n",
    "circ3 = QuantumCircuit(2, 2)\n",
    "circ3.x([0])\n",
    "circ3.append(cnoteq2, [1, 0])"
   ]
  },
  {
   "cell_type": "markdown",
   "metadata": {},
   "source": [
    "### State Vector for |10> "
   ]
  },
  {
   "cell_type": "code",
   "execution_count": 39,
   "metadata": {},
   "outputs": [
    {
     "data": {
      "text/latex": [
       "$$\\frac{\\sqrt{2}}{2} |01\\rangle- \\frac{\\sqrt{2} i}{2} |10\\rangle$$"
      ],
      "text/plain": [
       "<IPython.core.display.Latex object>"
      ]
     },
     "execution_count": 39,
     "metadata": {},
     "output_type": "execute_result"
    }
   ],
   "source": [
    "sv = Statevector.from_label('10')\n",
    "sv3 = sv.evolve(circ3)\n",
    "sv3.draw('latex')"
   ]
  },
  {
   "cell_type": "markdown",
   "metadata": {},
   "source": [
    "### Concurrence for |10> "
   ]
  },
  {
   "cell_type": "code",
   "execution_count": 40,
   "metadata": {},
   "outputs": [
    {
     "data": {
      "text/plain": [
       "1.0000000000000002"
      ]
     },
     "execution_count": 40,
     "metadata": {},
     "output_type": "execute_result"
    }
   ],
   "source": [
    "qi.concurrence(sv3)"
   ]
  },
  {
   "cell_type": "markdown",
   "metadata": {},
   "source": [
    "### Probabilities of |10> "
   ]
  },
  {
   "cell_type": "code",
   "execution_count": 41,
   "metadata": {},
   "outputs": [
    {
     "data": {
      "image/png": "[encoded data removed]",
      "text/plain": [
       "<Figure size 387.452x204.68 with 1 Axes>"
      ]
     },
     "execution_count": 41,
     "metadata": {},
     "output_type": "execute_result"
    }
   ],
   "source": [
    "circ3.measure([0,1], [0,1])\n",
    "circ3.draw(output='mpl')"
   ]
  },
  {
   "cell_type": "code",
   "execution_count": 42,
   "metadata": {},
   "outputs": [
    {
     "data": {
      "image/png": "[encoded data removed]",
      "text/plain": [
       "<Figure size 504x360 with 1 Axes>"
      ]
     },
     "execution_count": 42,
     "metadata": {},
     "output_type": "execute_result"
    }
   ],
   "source": [
    "simulator = Aer.get_backend('qasm_simulator')\n",
    "circ = transpile(circ3, simulator)\n",
    "\n",
    "result = simulator.run(circ, shots=1024).result()\n",
    "counts = result.get_counts(circ)\n",
    "second_result = execute(circ, simulator, shots=2048).result()\n",
    "second_counts  = second_result.get_counts(circ)\n",
    "third_result = execute(circ, simulator, shots=4096).result()\n",
    "third_counts  = third_result.get_counts(circ)\n",
    "# Plot results with legend\n",
    "legend = ['1024 shots', '2048 shots', '4096 shots']\n",
    "plot_histogram([counts, second_counts, third_counts], legend=legend, title='CNOTeq2 for |10>')"
   ]
  },
  {
   "cell_type": "markdown",
   "metadata": {},
   "source": [
    "<span style=\"font-family:Times New Row; font-size:12pt;\">The above graph shows the generation of an entangled state, involving the states |00> and |11> with nearly equal probabilities, as indicated by it's respective state vector.</span>"
   ]
  },
  {
   "cell_type": "markdown",
   "metadata": {},
   "source": [
    "## for |11>"
   ]
  },
  {
   "cell_type": "code",
   "execution_count": 43,
   "metadata": {},
   "outputs": [
    {
     "data": {
      "text/plain": [
       "<qiskit.circuit.instructionset.InstructionSet at 0x7ff75d180240>"
      ]
     },
     "execution_count": 43,
     "metadata": {},
     "output_type": "execute_result"
    }
   ],
   "source": [
    "cnoteq2 = qi.operators.Operator([\n",
    "    [0,(1/math.sqrt(2)),-(1.j/math.sqrt(2)),0],\n",
    "    [(1/math.sqrt(2)),0,0,-(1.j/math.sqrt(2))],\n",
    "    [-(1.j/math.sqrt(2)),0,0,(1/math.sqrt(2))],\n",
    "    [0,-(1.j/math.sqrt(2)),(1/math.sqrt(2)),0]])\n",
    "circ4 = QuantumCircuit(2, 2)\n",
    "circ4.x([0])\n",
    "circ4.x([1])\n",
    "circ4.append(cnoteq2, [1, 0])"
   ]
  },
  {
   "cell_type": "markdown",
   "metadata": {},
   "source": [
    "### State Vector for |11> "
   ]
  },
  {
   "cell_type": "code",
   "execution_count": 44,
   "metadata": {},
   "outputs": [
    {
     "data": {
      "text/latex": [
       "$$- \\frac{\\sqrt{2} i}{2} |01\\rangle+\\frac{\\sqrt{2}}{2} |10\\rangle$$"
      ],
      "text/plain": [
       "<IPython.core.display.Latex object>"
      ]
     },
     "execution_count": 44,
     "metadata": {},
     "output_type": "execute_result"
    }
   ],
   "source": [
    "sv = Statevector.from_label('11')\n",
    "sv4 = sv.evolve(circ4)\n",
    "sv4.draw('latex')"
   ]
  },
  {
   "cell_type": "markdown",
   "metadata": {},
   "source": [
    "### Concurrence for |11> "
   ]
  },
  {
   "cell_type": "code",
   "execution_count": 45,
   "metadata": {},
   "outputs": [
    {
     "data": {
      "text/plain": [
       "1.0000000000000002"
      ]
     },
     "execution_count": 45,
     "metadata": {},
     "output_type": "execute_result"
    }
   ],
   "source": [
    "qi.concurrence(sv4)"
   ]
  },
  {
   "cell_type": "markdown",
   "metadata": {},
   "source": [
    "### Probabilities of |11> "
   ]
  },
  {
   "cell_type": "code",
   "execution_count": 46,
   "metadata": {},
   "outputs": [
    {
     "data": {
      "image/png": "[encoded data removed]",
      "text/plain": [
       "<Figure size 387.452x204.68 with 1 Axes>"
      ]
     },
     "execution_count": 46,
     "metadata": {},
     "output_type": "execute_result"
    }
   ],
   "source": [
    "circ4.measure([0,1], [0,1])\n",
    "circ4.draw(output='mpl')"
   ]
  },
  {
   "cell_type": "code",
   "execution_count": 47,
   "metadata": {},
   "outputs": [
    {
     "data": {
      "image/png": "[encoded data removed]",
      "text/plain": [
       "<Figure size 504x360 with 1 Axes>"
      ]
     },
     "execution_count": 47,
     "metadata": {},
     "output_type": "execute_result"
    }
   ],
   "source": [
    "simulator = Aer.get_backend('qasm_simulator')\n",
    "circ = transpile(circ4, simulator)\n",
    "\n",
    "result = simulator.run(circ, shots=1024).result()\n",
    "counts = result.get_counts(circ)\n",
    "second_result = execute(circ, simulator, shots=2048).result()\n",
    "second_counts  = second_result.get_counts(circ)\n",
    "third_result = execute(circ, simulator, shots=4096).result()\n",
    "third_counts  = third_result.get_counts(circ)\n",
    "# Plot results with legend\n",
    "legend = ['1024 shots', '2048 shots', '4096 shots']\n",
    "plot_histogram([counts, second_counts, third_counts], legend=legend, title='CNOTeq2 for |11>')"
   ]
  },
  {
   "cell_type": "markdown",
   "metadata": {},
   "source": [
    "<span style=\"font-family:Times New Row; font-size:12pt;\">The above graph shows the generation of an entangled state, involving the states |01> and |10> with nearly equal probabilities, as indicated by it's respective state vector.</span>"
   ]
  }
 ],
 "metadata": {
  "kernelspec": {
   "display_name": "Python 3",
   "language": "python",
   "name": "python3"
  },
  "language_info": {
   "codemirror_mode": {
    "name": "ipython",
    "version": 3
   },
   "file_extension": ".py",
   "mimetype": "text/x-python",
   "name": "python",
   "nbconvert_exporter": "python",
   "pygments_lexer": "ipython3",
   "version": "3.8.5"
  }
 },
 "nbformat": 4,
 "nbformat_minor": 4
}
